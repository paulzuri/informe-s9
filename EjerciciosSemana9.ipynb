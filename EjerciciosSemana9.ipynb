{
 "cells": [
  {
   "cell_type": "code",
   "execution_count": 1,
   "id": "2703016e-212d-4919-b392-8fba4402d34f",
   "metadata": {},
   "outputs": [],
   "source": [
    "graph = {}\n",
    "graph['S'] = {'A': 4, 'B': 8, 'C': 16}\n",
    "graph['A'] = {'B': 3}\n",
    "graph['B'] = {'C': 7, 'F': 1}\n",
    "graph['C'] = {'D': 2}\n",
    "graph['D'] = {}\n",
    "graph['F'] = {'C': 5, 'D': 6}"
   ]
  },
  {
   "cell_type": "code",
   "execution_count": 2,
   "id": "da4bea3f-85b3-4f99-91e2-630e5d64c0aa",
   "metadata": {
    "tags": []
   },
   "outputs": [
    {
     "name": "stdout",
     "output_type": "stream",
     "text": [
      "inf\n"
     ]
    }
   ],
   "source": [
    "infinity = float('inf')\n",
    "print(infinity)"
   ]
  },
  {
   "cell_type": "code",
   "execution_count": 3,
   "id": "a2bf0a09-5c72-46dc-a125-5b1318147f65",
   "metadata": {
    "tags": []
   },
   "outputs": [],
   "source": [
    "costs = {}\n",
    "costs['A'] = 4\n",
    "costs['B'] = 8\n",
    "costs['C'] = 16\n",
    "costs['D'] = infinity\n",
    "costs['F'] = infinity"
   ]
  },
  {
   "cell_type": "code",
   "execution_count": 4,
   "id": "8a6c35ba-6778-4b85-abec-9903650e3007",
   "metadata": {
    "tags": []
   },
   "outputs": [],
   "source": [
    "parents = {}\n",
    "parents['A'] = 'S'\n",
    "parents['B'] = 'S'\n",
    "parents['C'] = 'S'\n",
    "parents['D'] = None\n",
    "parents['F'] = None\n",
    "parents['S'] = None"
   ]
  },
  {
   "cell_type": "code",
   "execution_count": 5,
   "id": "126a26ac-2779-4a92-9724-011360f00c0c",
   "metadata": {
    "tags": []
   },
   "outputs": [
    {
     "name": "stdout",
     "output_type": "stream",
     "text": [
      "Padres: {'A': 'S', 'B': 'A', 'C': 'F', 'D': 'F', 'F': 'B', 'S': None}\n",
      "Ruta más barata desde S hasta F: S -> A -> B -> F\n",
      "Costo total de la ruta: 8\n"
     ]
    }
   ],
   "source": [
    "processed = []\n",
    "\n",
    "def find_lowest_cost_node(costs):\n",
    "    lowest_cost = float('inf')\n",
    "    lowest_cost_node = None\n",
    "    for node in costs:\n",
    "        cost = costs[node]\n",
    "        if cost < lowest_cost and node not in processed:\n",
    "            lowest_cost = cost\n",
    "            lowest_cost_node = node\n",
    "    return lowest_cost_node\n",
    "\n",
    "node = find_lowest_cost_node(costs)\n",
    "while node is not None:\n",
    "    cost = costs[node]\n",
    "    neighbors = graph[node]\n",
    "    for n in neighbors.keys():\n",
    "        new_cost = cost + neighbors[n]\n",
    "        if costs[n] > new_cost:\n",
    "            costs[n] = new_cost\n",
    "            parents[n] = node\n",
    "    processed.append(node)\n",
    "    node = find_lowest_cost_node(costs)\n",
    "\n",
    "# Desplegar la ruta más barata desde S hasta F\n",
    "path = []\n",
    "current_node = 'F'\n",
    "total_cost = 0\n",
    "\n",
    "while current_node is not None:\n",
    "    path.insert(0, current_node)\n",
    "    if parents[current_node] is not None:\n",
    "        total_cost += graph[parents[current_node]][current_node]\n",
    "    current_node = parents[current_node]\n",
    "\n",
    "if path and path[0] == 'S':  # Verifica el nuevo nodo de inicio\n",
    "    print(\"Padres:\", parents)\n",
    "    print(\"Ruta más barata desde S hasta F:\", ' -> '.join(path))\n",
    "    print(\"Costo total de la ruta:\", total_cost)\n",
    "else:\n",
    "    print(\"No hay una ruta desde S hasta F.\")"
   ]
  },
  {
   "cell_type": "code",
   "execution_count": 6,
   "id": "1a07ac97-8af4-46e4-9916-8d38341d97b1",
   "metadata": {
    "tags": []
   },
   "outputs": [
    {
     "name": "stdout",
     "output_type": "stream",
     "text": [
      "Padres: {'0': None, '1': '5', '2': '0', '3': '7', '4': '0', '5': '4', '6': '3', '7': '2'}\n",
      "Ruta más barata desde 0 hasta 6: 0 -> 2 -> 7 -> 3 -> 6\n",
      "Costo total de la ruta: 1.51\n"
     ]
    }
   ],
   "source": [
    "graph = {}\n",
    "graph['0'] = {'2': 0.26, '4': 0.38}\n",
    "graph['1'] = {'3': 0.29}\n",
    "graph['2'] = {'7': 0.34}\n",
    "graph['3'] = {'6': 0.52}\n",
    "graph['4'] = {'5': 0.35, '7': 0.37}\n",
    "graph['5'] = {'1': 0.32, '4': 0.35, '7': 0.28}\n",
    "graph['6'] = {'2': 0.40, '4': 0.93}\n",
    "graph['7'] = {'3': 0.39, '5': 0.28}\n",
    "\n",
    "infinity = float('inf')\n",
    "\n",
    "costs = {}\n",
    "costs['0'] = 0\n",
    "costs['1'] = infinity\n",
    "costs['2'] = 0.26\n",
    "costs['3'] = infinity\n",
    "costs['4'] = 0.38\n",
    "costs['5'] = infinity\n",
    "costs['6'] = infinity\n",
    "costs['7'] = infinity\n",
    "\n",
    "parents = {}\n",
    "parents['0'] = None\n",
    "parents['1'] = None\n",
    "parents['2'] = '0'\n",
    "parents['3'] = None\n",
    "parents['4'] = '0'\n",
    "parents['5'] = None\n",
    "parents['6'] = None\n",
    "parents['7'] = None\n",
    "\n",
    "processed = []\n",
    "\n",
    "def find_lowest_cost_node(costs):\n",
    "    lowest_cost = float('inf')\n",
    "    lowest_cost_node = None\n",
    "    for node in costs:\n",
    "        cost = costs[node]\n",
    "        if cost < lowest_cost and node not in processed:\n",
    "            lowest_cost = cost\n",
    "            lowest_cost_node = node\n",
    "    return lowest_cost_node\n",
    "\n",
    "node = find_lowest_cost_node(costs)\n",
    "while node is not None:\n",
    "    cost = costs[node]\n",
    "    neighbors = graph[node]\n",
    "    for n in neighbors.keys():\n",
    "        new_cost = cost + neighbors[n]\n",
    "        if costs[n] > new_cost:\n",
    "            costs[n] = new_cost\n",
    "            parents[n] = node\n",
    "    processed.append(node)\n",
    "    node = find_lowest_cost_node(costs)\n",
    "\n",
    "# Desplegar la ruta más barata desde S hasta F\n",
    "path = []\n",
    "current_node = '6'  # Cambiado a un nodo existente en el grafo\n",
    "total_cost = 0\n",
    "\n",
    "while current_node is not None:\n",
    "    path.insert(0, current_node)\n",
    "    if parents[current_node] is not None:\n",
    "        total_cost += graph[parents[current_node]][current_node]\n",
    "    current_node = parents[current_node]\n",
    "\n",
    "if path and path[0] == '0':  # Verifica el nuevo nodo de inicio\n",
    "    print(\"Padres:\", parents)\n",
    "    print(\"Ruta más barata desde 0 hasta 6:\", ' -> '.join(path))\n",
    "    print(\"Costo total de la ruta:\", total_cost)\n",
    "else:\n",
    "    print(\"No hay una ruta desde S hasta F.\")"
   ]
  },
  {
   "cell_type": "code",
   "execution_count": null,
   "id": "97da7edc-aa36-476e-b0e9-49074c30780d",
   "metadata": {},
   "outputs": [],
   "source": []
  },
  {
   "cell_type": "code",
   "execution_count": null,
   "id": "10cd5d13-70a3-4fd4-9327-fad6b3af4150",
   "metadata": {},
   "outputs": [],
   "source": []
  }
 ],
 "metadata": {
  "kernelspec": {
   "display_name": "Python 3 (ipykernel)",
   "language": "python",
   "name": "python3"
  },
  "language_info": {
   "codemirror_mode": {
    "name": "ipython",
    "version": 3
   },
   "file_extension": ".py",
   "mimetype": "text/x-python",
   "name": "python",
   "nbconvert_exporter": "python",
   "pygments_lexer": "ipython3",
   "version": "3.11.5"
  }
 },
 "nbformat": 4,
 "nbformat_minor": 5
}
