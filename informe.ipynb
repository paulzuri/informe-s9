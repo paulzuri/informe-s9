{
 "cells": [
  {
   "cell_type": "raw",
   "metadata": {},
   "source": [
    "---\n",
    "title: \"Informe Semana 9\"\n",
    "author: \"Marlon Zurita\"\n",
    "date: '2024-01-25'\n",
    "bibliography: references.bib\n",
    "lang: es\n",
    "format:\n",
    "    pdf:\n",
    "        toc: true\n",
    "        toc-title: \"Tabla de Contenidos\"\n",
    "        fig-pos: H\n",
    "execute:\n",
    "    echo: true\n",
    "    error: false\n",
    "    warning: false\n",
    "code-fold: true\n",
    "jupyter: python3\n",
    "---"
   ]
  },
  {
   "cell_type": "markdown",
   "metadata": {},
   "source": [
    "# Ordenamiento topológico\n",
    "\n",
    "## 1. Objetivos\n",
    "\n",
    "- Describir y analizar el algoritmo de orden topológico implementado, identificar las estructuras de datos utilizadas y explicar su papel en el algoritmo.\n",
    "- Investigar y discutir los desafíos asociados con grafos con ciclos en el algoritmo.\n",
    "\n",
    "## 2. Introducción\n",
    "\n",
    "Este informe se centra en el análisis del algoritmo de orden topológico implementado en el código proporcionado. El orden topológico es una técnica fundamental en teoría de grafos, especialmente en la resolución de problemas que involucran tareas que deben ser ejecutadas en un orden específico y que dependen de tareas anteriores. Este algoritmo es esencial en diversas áreas de la informática, como la planificación de tareas y la gestión de dependencias en sistemas complejos [@Cake].\n",
    "\n",
    "A lo largo de este informe, se explora en detalle la lógica subyacente del algoritmo y se analiza su funcionamiento cuando existen ciclos en el grafo [@Geeks].\n",
    "\n",
    "## 3. Ejercicios planteados\n",
    "\n",
    "### Aplique el algoritmo de Dijkstra y despliegue la ruta más barata desde S hasta F. Trabaje con el siguiente ejemplo, dé nombre a los nodos\n",
    "\n",
    "![Ejemplo 1](grafo.png)"
   ]
  },
  {
   "cell_type": "code",
   "execution_count": 12,
   "metadata": {},
   "outputs": [
    {
     "name": "stdout",
     "output_type": "stream",
     "text": [
      "Indegree: {'A': 0, 'B': 1, 'C': 2, 'D': 0, 'E': 1, 'F': 1, 'G': 2, 'H': 2, 'S': 1}\n",
      "READY: ['A', 'D']\n",
      "Nodo para usarse: D\n",
      "C :  2 - 1\n",
      "READY: ['A']\n",
      "Nodo para usarse: A\n",
      "B :  1 - 1\n",
      "S :  1 - 1\n",
      "READY: ['B', 'S']\n",
      "Nodo para usarse: S\n",
      "C :  1 - 1\n",
      "G :  2 - 1\n",
      "READY: ['B', 'C']\n",
      "Nodo para usarse: C\n",
      "E :  1 - 1\n",
      "F :  1 - 1\n",
      "READY: ['B', 'E', 'F']\n",
      "Nodo para usarse: F\n",
      "G :  1 - 1\n",
      "READY: ['B', 'E', 'G']\n",
      "Nodo para usarse: G\n",
      "H :  2 - 1\n",
      "READY: ['B', 'E']\n",
      "Nodo para usarse: E\n",
      "H :  1 - 1\n",
      "READY: ['B', 'H']\n",
      "Nodo para usarse: H\n",
      "READY: ['B']\n",
      "Nodo para usarse: B\n",
      "READY: []\n"
     ]
    },
    {
     "data": {
      "text/plain": [
       "['D', 'A', 'S', 'C', 'F', 'G', 'E', 'H', 'B']"
      ]
     },
     "execution_count": 12,
     "metadata": {},
     "output_type": "execute_result"
    }
   ],
   "source": [
    "def indegree(grafo):\n",
    "    # crea un diccionario para almacenar la cuenta del indegree para cada nodo\n",
    "    indegree_count = {nodo: 0 for nodo in grafo}\n",
    "\n",
    "    # itera cada nodo en el grafo\n",
    "    for nodo in grafo:\n",
    "        # itera cada vecino en el nodo\n",
    "        for vecino in grafo[nodo]:\n",
    "            # incrementa la cuenta del indegree por uno\n",
    "            indegree_count[vecino] += 1\n",
    "    # retorna el indegree calculado para cada nodo\n",
    "    return indegree_count\n",
    "\n",
    "def topological_sort(grafo):\n",
    "    # lista para el ordenamiento topológico del grafo\n",
    "    top_sorted = []\n",
    "    # lista para almacenar los nodos con indegree = 0\n",
    "    ready = []\n",
    "    # diccionario para almacenar la cuenta del indegree para cada nodo\n",
    "    incount = indegree(grafo)\n",
    "\n",
    "    # itera cada nodo en el grafo\n",
    "    for nodo in grafo.keys():\n",
    "        # si el indegree de un nodo es 0, añadir a la lista ready\n",
    "        if incount[nodo] == 0:\n",
    "            ready.append(nodo)\n",
    "    print('Indegree:', incount)\n",
    "    print('READY:', ready)\n",
    "\n",
    "    # procesa los nodos con indegree 0 hasta que todos sean procesados\n",
    "    while len(ready) > 0:\n",
    "        # saca un nodo con indegree 0 de la lista ready\n",
    "        nodo = ready.pop()\n",
    "        print('Nodo para usarse:', nodo)\n",
    "\n",
    "        # añade el nodo a la lista de nodos ordenados topológicamente\n",
    "        top_sorted.append(nodo)\n",
    "\n",
    "        # actualiza el indegree de los nodos vecinos\n",
    "        for vecino in grafo[nodo]:\n",
    "            print(vecino, ': ', incount[vecino], '- 1')\n",
    "            incount[vecino] -= 1\n",
    "            # si el indegree se vuelve 0, añade el nodo a la lista ready\n",
    "            if incount[vecino] == 0:\n",
    "                ready.append(vecino)\n",
    "        print('READY:', ready)\n",
    "\n",
    "    # retorna el orden topológico\n",
    "    return top_sorted\n",
    "\n",
    "grafo = {'A': ['B','S'], \n",
    "         'B': [], \n",
    "         'C': ['E','F'], \n",
    "         'D': ['C'], 'E': ['H'], \n",
    "         'F':['G'], \n",
    "         'G':['H'], \n",
    "         'H':[], \n",
    "         'S':['C','G']}\n",
    "\n",
    "topological_sort(grafo)"
   ]
  },
  {
   "cell_type": "markdown",
   "metadata": {},
   "source": [
    "### ¿Qué sucede si el grafo dirigido G dado tiene un ciclo? Pruebe el algoritmo de ordenamiento topológico con un grafo dirigido que tenga un ciclo y explique el resultado de lo que retorna.\n",
    "\n",
    "Para la demostración se usará el siguiente grafo, tiene un ciclo.\n",
    "\n",
    "![Ejemplo 2](grafo2.png)\n",
    "\n",
    "Cuando se usa este algoritmo en un grafo, no existe una comprobación para verificar que el grafo sea acíclico. La salida puede entrar en un bucle infinito o bien puede retornar una lista que no corresponde a un ordenamiento topológico.\n",
    "\n",
    "Para este grafo, el algoritmo retorna ['A'] porque es el único nodo procesado al ser iniciado con un indegree de 0. Luego el algoritmo procesa B y reduce su indegree en 1, pero no llega a 0 (el indegree de B pasó de 2 a 1) y no existen más nodos con indegree de 0, por lo que el algoritmo termina prematuramente."
   ]
  },
  {
   "cell_type": "code",
   "execution_count": 13,
   "metadata": {},
   "outputs": [
    {
     "name": "stdout",
     "output_type": "stream",
     "text": [
      "Indegree: {'A': 0, 'B': 2, 'C': 1, 'D': 1, 'E': 1}\n",
      "READY: ['A']\n",
      "Nodo para usarse: A\n",
      "B :  2 - 1\n",
      "READY: []\n"
     ]
    },
    {
     "data": {
      "text/plain": [
       "['A']"
      ]
     },
     "execution_count": 13,
     "metadata": {},
     "output_type": "execute_result"
    }
   ],
   "source": [
    "def indegree(grafo):\n",
    "    # crea un diccionario para almacenar la cuenta del indegree para cada nodo\n",
    "    indegree_count = {nodo: 0 for nodo in grafo}\n",
    "\n",
    "    # itera cada nodo en el grafo\n",
    "    for nodo in grafo:\n",
    "        # itera cada vecino en el nodo\n",
    "        for vecino in grafo[nodo]:\n",
    "            # incrementa la cuenta del indegree por uno\n",
    "            indegree_count[vecino] += 1\n",
    "    # retorna el indegree calculado para cada nodo\n",
    "    return indegree_count\n",
    "\n",
    "def topological_sort(grafo):\n",
    "    # lista para el ordenamiento topológico del grafo\n",
    "    top_sorted = []\n",
    "    # lista para almacenar los nodos con indegree = 0\n",
    "    ready = []\n",
    "    # diccionario para almacenar la cuenta del indegree para cada nodo\n",
    "    incount = indegree(grafo)\n",
    "\n",
    "    # itera cada nodo en el grafo\n",
    "    for nodo in grafo.keys():\n",
    "        # si el indegree de un nodo es 0, añadir a la lista ready\n",
    "        if incount[nodo] == 0:\n",
    "            ready.append(nodo)\n",
    "    print('Indegree:', incount)\n",
    "    print('READY:', ready)\n",
    "\n",
    "    # procesa los nodos con indegree 0 hasta que todos sean procesados\n",
    "    while len(ready) > 0:\n",
    "        # saca un nodo con indegree 0 de la lista ready\n",
    "        nodo = ready.pop()\n",
    "        print('Nodo para usarse:', nodo)\n",
    "\n",
    "        # añade el nodo a la lista de nodos ordenados topológicamente\n",
    "        top_sorted.append(nodo)\n",
    "\n",
    "        # actualiza el indegree de los nodos vecinos\n",
    "        for vecino in grafo[nodo]:\n",
    "            print(vecino, ': ', incount[vecino], '- 1')\n",
    "            incount[vecino] -= 1\n",
    "            # si el indegree se vuelve 0, añade el nodo a la lista ready\n",
    "            if incount[vecino] == 0:\n",
    "                ready.append(vecino)\n",
    "        print('READY:', ready)\n",
    "\n",
    "    # retorna el orden topológico\n",
    "    return top_sorted\n",
    "\n",
    "grafo = {'A': ['B'], 'B': ['C'], 'C': ['D'], 'D': ['E'], 'E': ['B']}\n",
    "\n",
    "topological_sort(grafo)"
   ]
  },
  {
   "cell_type": "markdown",
   "metadata": {},
   "source": [
    "## 4. Conclusiones\n",
    "\n",
    "- El algoritmo de ordenamiento topológico resulta eficaz en situaciones donde el grafo es acíclico. La capacidad de generar un orden lineal de nodos basado en dependencias direccionales es valiosa en escenarios como la planificación de proyectos y la compilación de código.\n",
    "\n",
    "- Sin embargo, se observa que la implementación actual presenta limitaciones en el manejo de grafos con ciclos. La falta de una estrategia robusta para identificar y tratar ciclos puede afectar la precisión de los resultados y conducir a una terminación prematura en presencia de dependencias circulares, o bien la entrada en un bucle infinito.\n",
    "\n",
    "- La inclusión de un mecanismo de detección y manejo de ciclos más sofisticado podría mejorar significativamente la aplicabilidad del algoritmo, permitiendo su uso en un número mayor de escenarios prácticos.\n",
    "\n",
    "## 5. Referencias"
   ]
  }
 ],
 "metadata": {
  "kernelspec": {
   "display_name": "base",
   "language": "python",
   "name": "python3"
  },
  "language_info": {
   "codemirror_mode": {
    "name": "ipython",
    "version": 3
   },
   "file_extension": ".py",
   "mimetype": "text/x-python",
   "name": "python",
   "nbconvert_exporter": "python",
   "pygments_lexer": "ipython3",
   "version": "3.11.5"
  }
 },
 "nbformat": 4,
 "nbformat_minor": 2
}
